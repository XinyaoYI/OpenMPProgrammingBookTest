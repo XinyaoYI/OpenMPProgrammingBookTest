{
 "cells": [
  {
   "cell_type": "markdown",
   "id": "increased-working",
   "metadata": {},
   "source": [
    "# `parallel for`"
   ]
  },
  {
   "cell_type": "markdown",
   "id": "plastic-innocent",
   "metadata": {},
   "source": [
    "A simple example using OpenMP `parallel for` directive:"
   ]
  },
  {
   "cell_type": "code",
   "execution_count": 1,
   "id": "beginning-exhibition",
   "metadata": {},
   "outputs": [
    {
     "name": "stdout",
     "output_type": "stream",
     "text": [
      "Thread: 0, i = 0\n",
      "Thread: 0, i = 1\n",
      "Thread: 2, i = 4\n",
      "Thread: 2, i = 5\n",
      "Thread: 4, i = 8\n",
      "Thread: 4, i = 9\n",
      "Thread: 5, i = 10\n",
      "Thread: 5, i = 11\n",
      "Thread: 1, i = 2\n",
      "Thread: 1, i = 3\n",
      "Thread: 3, i = 6\n",
      "Thread: 3, i = 7\n"
     ]
    }
   ],
   "source": [
    "//%compiler: clang\n",
    "//%cflags: -fopenmp\n",
    "\n",
    "#include <stdio.h>\n",
    "#include <stdlib.h>\n",
    "#include <omp.h>\n",
    "\n",
    "int main (int argc, char** argv) {\n",
    "    int i;\n",
    "    #pragma omp parallel for num_threads(6)\n",
    "    for (i = 0; i < 12; i++)\n",
    "        printf(\"Thread: %d, i = %d\\n\", omp_get_thread_num(), i);\n",
    "    \n",
    "    return 0;\n",
    "}"
   ]
  }
 ],
 "metadata": {
  "kernelspec": {
   "display_name": "Native",
   "language": "native",
   "name": "native"
  },
  "language_info": {
   "file_extension": ".c",
   "mimetype": "text/plain",
   "name": "c"
  }
 },
 "nbformat": 4,
 "nbformat_minor": 5
}
